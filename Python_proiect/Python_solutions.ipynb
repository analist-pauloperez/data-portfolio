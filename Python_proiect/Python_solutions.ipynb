{
 "cells": [
  {
   "cell_type": "code",
   "execution_count": 1,
   "id": "2bf41f1e",
   "metadata": {},
   "outputs": [],
   "source": [
    "import pandas as pd\n",
    "import matplotlib.pyplot as plt\n"
   ]
  },
  {
   "cell_type": "code",
   "execution_count": 2,
   "id": "c5dde1dd",
   "metadata": {},
   "outputs": [
    {
     "data": {
      "text/html": [
       "<div>\n",
       "<style scoped>\n",
       "    .dataframe tbody tr th:only-of-type {\n",
       "        vertical-align: middle;\n",
       "    }\n",
       "\n",
       "    .dataframe tbody tr th {\n",
       "        vertical-align: top;\n",
       "    }\n",
       "\n",
       "    .dataframe thead th {\n",
       "        text-align: right;\n",
       "    }\n",
       "</style>\n",
       "<table border=\"1\" class=\"dataframe\">\n",
       "  <thead>\n",
       "    <tr style=\"text-align: right;\">\n",
       "      <th></th>\n",
       "      <th>PassengerId</th>\n",
       "      <th>Survived</th>\n",
       "      <th>Pclass</th>\n",
       "      <th>Name</th>\n",
       "      <th>Sex</th>\n",
       "      <th>Age</th>\n",
       "      <th>SibSp</th>\n",
       "      <th>Parch</th>\n",
       "      <th>Ticket</th>\n",
       "      <th>Fare</th>\n",
       "      <th>Cabin</th>\n",
       "      <th>Embarked</th>\n",
       "    </tr>\n",
       "  </thead>\n",
       "  <tbody>\n",
       "    <tr>\n",
       "      <th>0</th>\n",
       "      <td>1</td>\n",
       "      <td>0</td>\n",
       "      <td>3</td>\n",
       "      <td>Braund, Mr. Owen Harris</td>\n",
       "      <td>male</td>\n",
       "      <td>22.0</td>\n",
       "      <td>1</td>\n",
       "      <td>0</td>\n",
       "      <td>A/5 21171</td>\n",
       "      <td>7.2500</td>\n",
       "      <td>NaN</td>\n",
       "      <td>S</td>\n",
       "    </tr>\n",
       "    <tr>\n",
       "      <th>1</th>\n",
       "      <td>2</td>\n",
       "      <td>1</td>\n",
       "      <td>1</td>\n",
       "      <td>Cumings, Mrs. John Bradley (Florence Briggs Th...</td>\n",
       "      <td>female</td>\n",
       "      <td>38.0</td>\n",
       "      <td>1</td>\n",
       "      <td>0</td>\n",
       "      <td>PC 17599</td>\n",
       "      <td>71.2833</td>\n",
       "      <td>C85</td>\n",
       "      <td>C</td>\n",
       "    </tr>\n",
       "    <tr>\n",
       "      <th>2</th>\n",
       "      <td>3</td>\n",
       "      <td>1</td>\n",
       "      <td>3</td>\n",
       "      <td>Heikkinen, Miss. Laina</td>\n",
       "      <td>female</td>\n",
       "      <td>26.0</td>\n",
       "      <td>0</td>\n",
       "      <td>0</td>\n",
       "      <td>STON/O2. 3101282</td>\n",
       "      <td>7.9250</td>\n",
       "      <td>NaN</td>\n",
       "      <td>S</td>\n",
       "    </tr>\n",
       "  </tbody>\n",
       "</table>\n",
       "</div>"
      ],
      "text/plain": [
       "   PassengerId  Survived  Pclass  \\\n",
       "0            1         0       3   \n",
       "1            2         1       1   \n",
       "2            3         1       3   \n",
       "\n",
       "                                                Name     Sex   Age  SibSp  \\\n",
       "0                            Braund, Mr. Owen Harris    male  22.0      1   \n",
       "1  Cumings, Mrs. John Bradley (Florence Briggs Th...  female  38.0      1   \n",
       "2                             Heikkinen, Miss. Laina  female  26.0      0   \n",
       "\n",
       "   Parch            Ticket     Fare Cabin Embarked  \n",
       "0      0         A/5 21171   7.2500   NaN        S  \n",
       "1      0          PC 17599  71.2833   C85        C  \n",
       "2      0  STON/O2. 3101282   7.9250   NaN        S  "
      ]
     },
     "execution_count": 2,
     "metadata": {},
     "output_type": "execute_result"
    }
   ],
   "source": [
    "df = pd.read_csv('titanic_train.csv')\n",
    "df.head(3)"
   ]
  },
  {
   "cell_type": "code",
   "execution_count": 3,
   "id": "c8dd0ee3",
   "metadata": {},
   "outputs": [
    {
     "data": {
      "text/plain": [
       "PassengerId      0\n",
       "Survived         0\n",
       "Pclass           0\n",
       "Name             0\n",
       "Sex              0\n",
       "Age            177\n",
       "SibSp            0\n",
       "Parch            0\n",
       "Ticket           0\n",
       "Fare             0\n",
       "Cabin          687\n",
       "Embarked         2\n",
       "dtype: int64"
      ]
     },
     "execution_count": 3,
     "metadata": {},
     "output_type": "execute_result"
    }
   ],
   "source": [
    "df.isna().sum()"
   ]
  },
  {
   "cell_type": "code",
   "execution_count": 4,
   "id": "29dd049a",
   "metadata": {},
   "outputs": [],
   "source": [
    "# Answer:\n",
    "# There is missing data in the columns: age, cabin, embarked\n",
    "\n",
    "# embarked - there are only two missing values, so it has no effect on the results of the analysis.\n",
    "\n",
    "# cabin - This is the cabin in which the passenger was staying, a figure that can greatly \n",
    "# affect his chances of survival. Since about 80% of the data is missing, we can not use this column, so it can be omitted\n",
    "\n",
    "# age - We will complete the figures by using the median age of each gender. \n",
    "# That is - for female passengers without an age listed, we will fill in the median value of all women, and the age of male passengers without an age listed, we will fill in the median value of all men\n"
   ]
  },
  {
   "cell_type": "markdown",
   "id": "7408d1b6",
   "metadata": {},
   "source": [
    "## Drop Cabin column from the DF"
   ]
  },
  {
   "cell_type": "code",
   "execution_count": 5,
   "id": "b302b9b7",
   "metadata": {},
   "outputs": [],
   "source": [
    "df.drop('Cabin', axis='columns', inplace=True)"
   ]
  },
  {
   "cell_type": "markdown",
   "id": "b51ff772",
   "metadata": {},
   "source": [
    "## Fill the median value of column Age for each gender (male, female)"
   ]
  },
  {
   "cell_type": "markdown",
   "id": "add2d08b",
   "metadata": {},
   "source": [
    "#### Fill female data"
   ]
  },
  {
   "cell_type": "code",
   "execution_count": 6,
   "id": "3e71b86a",
   "metadata": {},
   "outputs": [
    {
     "data": {
      "text/plain": [
       "PassengerId     0\n",
       "Survived        0\n",
       "Pclass          0\n",
       "Name            0\n",
       "Sex             0\n",
       "Age            53\n",
       "SibSp           0\n",
       "Parch           0\n",
       "Ticket          0\n",
       "Fare            0\n",
       "Embarked        2\n",
       "dtype: int64"
      ]
     },
     "execution_count": 6,
     "metadata": {},
     "output_type": "execute_result"
    }
   ],
   "source": [
    "# filter female only\n",
    "mask_female = df['Sex'] == 'female'\n",
    "\n",
    "# How many female values are null?\n",
    "df[mask_female].isna().sum()"
   ]
  },
  {
   "cell_type": "code",
   "execution_count": 7,
   "id": "ca3864fb",
   "metadata": {},
   "outputs": [
    {
     "data": {
      "text/plain": [
       "27.0"
      ]
     },
     "execution_count": 7,
     "metadata": {},
     "output_type": "execute_result"
    }
   ],
   "source": [
    "\n",
    "\n",
    "# calculate the median of female\n",
    "f_median = df.loc[mask_female,'Age'].median()\n",
    "f_median"
   ]
  },
  {
   "cell_type": "code",
   "execution_count": 8,
   "id": "c5953046",
   "metadata": {},
   "outputs": [],
   "source": [
    "# fill female missing values\n",
    "df.loc[mask_female,'Age'] = df.loc[mask_female,'Age'].fillna(f_median)"
   ]
  },
  {
   "cell_type": "code",
   "execution_count": 9,
   "id": "13782a98",
   "metadata": {},
   "outputs": [
    {
     "data": {
      "text/plain": [
       "PassengerId    0\n",
       "Survived       0\n",
       "Pclass         0\n",
       "Name           0\n",
       "Sex            0\n",
       "Age            0\n",
       "SibSp          0\n",
       "Parch          0\n",
       "Ticket         0\n",
       "Fare           0\n",
       "Embarked       2\n",
       "dtype: int64"
      ]
     },
     "execution_count": 9,
     "metadata": {},
     "output_type": "execute_result"
    }
   ],
   "source": [
    "# check if completed succesfully\n",
    "df[mask_female].isna().sum()"
   ]
  },
  {
   "cell_type": "markdown",
   "id": "ed402b97",
   "metadata": {},
   "source": [
    "#### Fill male data"
   ]
  },
  {
   "cell_type": "code",
   "execution_count": 10,
   "id": "940ff473",
   "metadata": {},
   "outputs": [
    {
     "data": {
      "text/plain": [
       "PassengerId      0\n",
       "Survived         0\n",
       "Pclass           0\n",
       "Name             0\n",
       "Sex              0\n",
       "Age            124\n",
       "SibSp            0\n",
       "Parch            0\n",
       "Ticket           0\n",
       "Fare             0\n",
       "Embarked         0\n",
       "dtype: int64"
      ]
     },
     "execution_count": 10,
     "metadata": {},
     "output_type": "execute_result"
    }
   ],
   "source": [
    "# filter male only\n",
    "mask_male = df['Sex'] == 'male'\n",
    "\n",
    "# How many male values are null?\n",
    "df[mask_male].isna().sum()"
   ]
  },
  {
   "cell_type": "code",
   "execution_count": 11,
   "id": "c07b5752",
   "metadata": {},
   "outputs": [],
   "source": [
    "# Now we see how we can update withoun using variables:\n",
    "\n",
    "df.loc[mask_male,'Age'] = df.loc[mask_male,'Age'].fillna(df.loc[mask_male,'Age'].median())"
   ]
  },
  {
   "cell_type": "code",
   "execution_count": 12,
   "id": "947d5b58",
   "metadata": {},
   "outputs": [
    {
     "data": {
      "text/plain": [
       "PassengerId    0\n",
       "Survived       0\n",
       "Pclass         0\n",
       "Name           0\n",
       "Sex            0\n",
       "Age            0\n",
       "SibSp          0\n",
       "Parch          0\n",
       "Ticket         0\n",
       "Fare           0\n",
       "Embarked       0\n",
       "dtype: int64"
      ]
     },
     "execution_count": 12,
     "metadata": {},
     "output_type": "execute_result"
    }
   ],
   "source": [
    "# check if completed succesfully\n",
    "df[mask_male].isna().sum()"
   ]
  },
  {
   "cell_type": "markdown",
   "id": "54c44d3d",
   "metadata": {},
   "source": [
    "## Fill missing values in 'embarked' column with common value"
   ]
  },
  {
   "cell_type": "code",
   "execution_count": 13,
   "id": "42d62342",
   "metadata": {},
   "outputs": [],
   "source": [
    "common_embarked = df['Embarked'].value_counts().head(1).index[0]"
   ]
  },
  {
   "cell_type": "code",
   "execution_count": 14,
   "id": "155e375d",
   "metadata": {},
   "outputs": [],
   "source": [
    "df['Embarked'].fillna(common_embarked, inplace=True)"
   ]
  },
  {
   "cell_type": "code",
   "execution_count": 15,
   "id": "4d42b622",
   "metadata": {},
   "outputs": [
    {
     "data": {
      "text/plain": [
       "PassengerId    0\n",
       "Survived       0\n",
       "Pclass         0\n",
       "Name           0\n",
       "Sex            0\n",
       "Age            0\n",
       "SibSp          0\n",
       "Parch          0\n",
       "Ticket         0\n",
       "Fare           0\n",
       "Embarked       0\n",
       "dtype: int64"
      ]
     },
     "execution_count": 15,
     "metadata": {},
     "output_type": "execute_result"
    }
   ],
   "source": [
    "df.isna().sum()"
   ]
  },
  {
   "cell_type": "markdown",
   "id": "1ef59786",
   "metadata": {},
   "source": [
    "## Passengers distribution by gender"
   ]
  },
  {
   "cell_type": "code",
   "execution_count": 16,
   "id": "c5e94f73",
   "metadata": {},
   "outputs": [
    {
     "data": {
      "text/plain": [
       "Text(0.5, 1.0, '\\nPassengers distribution by gender')"
      ]
     },
     "execution_count": 16,
     "metadata": {},
     "output_type": "execute_result"
    },
    {
     "data": {
      "image/png": "[encoded data removed]",
      "text/plain": [
       "<Figure size 360x360 with 1 Axes>"
      ]
     },
     "metadata": {},
     "output_type": "display_data"
    }
   ],
   "source": [
    "df.groupby('Sex')['PassengerId'].count().plot.pie(colors=('#FF0066','#0099FF'), \n",
    "                                                  labels=('Female', 'Male'),\n",
    "                                                  autopct='%1.1f%%',\n",
    "                                                  shadow=True, \n",
    "                                                  explode=(0.1, 0),                                         \n",
    "                                                  figsize=(5,5),\n",
    "                                                  ylabel=''\n",
    "                                                 )\n",
    "\n",
    "plt.title('\\nPassengers distribution by gender',\n",
    "          fontsize='18'\n",
    "         )"
   ]
  },
  {
   "cell_type": "markdown",
   "id": "4e87f50d",
   "metadata": {},
   "source": [
    "## Passengers distribution by gender and survived"
   ]
  },
  {
   "cell_type": "code",
   "execution_count": 17,
   "id": "e62d3e13",
   "metadata": {},
   "outputs": [
    {
     "data": {
      "text/html": [
       "<div>\n",
       "<style scoped>\n",
       "    .dataframe tbody tr th:only-of-type {\n",
       "        vertical-align: middle;\n",
       "    }\n",
       "\n",
       "    .dataframe tbody tr th {\n",
       "        vertical-align: top;\n",
       "    }\n",
       "\n",
       "    .dataframe thead th {\n",
       "        text-align: right;\n",
       "    }\n",
       "</style>\n",
       "<table border=\"1\" class=\"dataframe\">\n",
       "  <thead>\n",
       "    <tr style=\"text-align: right;\">\n",
       "      <th>Sex</th>\n",
       "      <th>female</th>\n",
       "      <th>male</th>\n",
       "    </tr>\n",
       "    <tr>\n",
       "      <th>Survived</th>\n",
       "      <th></th>\n",
       "      <th></th>\n",
       "    </tr>\n",
       "  </thead>\n",
       "  <tbody>\n",
       "    <tr>\n",
       "      <th>0</th>\n",
       "      <td>81</td>\n",
       "      <td>468</td>\n",
       "    </tr>\n",
       "    <tr>\n",
       "      <th>1</th>\n",
       "      <td>233</td>\n",
       "      <td>109</td>\n",
       "    </tr>\n",
       "  </tbody>\n",
       "</table>\n",
       "</div>"
      ],
      "text/plain": [
       "Sex       female  male\n",
       "Survived              \n",
       "0             81   468\n",
       "1            233   109"
      ]
     },
     "execution_count": 17,
     "metadata": {},
     "output_type": "execute_result"
    }
   ],
   "source": [
    "pt_sex_srv = df.pivot_table(columns='Sex', index='Survived', values='PassengerId', aggfunc='count')\n",
    "\n",
    "pt_sex_srv"
   ]
  },
  {
   "cell_type": "code",
   "execution_count": 18,
   "id": "1651c278",
   "metadata": {},
   "outputs": [
    {
     "data": {
      "text/plain": [
       "([<matplotlib.axis.XTick at 0x22d25183c70>,\n",
       "  <matplotlib.axis.XTick at 0x22d25183c40>],\n",
       " [Text(0, 0, \"Didn't survives\"), Text(1, 0, 'Survived')])"
      ]
     },
     "execution_count": 18,
     "metadata": {},
     "output_type": "execute_result"
    },
    {
     "data": {
      "image/png": "[encoded data removed]",
      "text/plain": [
       "<Figure size 576x432 with 1 Axes>"
      ]
     },
     "metadata": {
      "needs_background": "light"
     },
     "output_type": "display_data"
    }
   ],
   "source": [
    "pt_sex_srv.plot.bar(width=0.8,\n",
    "              color=('#FF0066','#0099FF'), \n",
    "              edgecolor='black', \n",
    "              figsize=(8,6),\n",
    "              title='Passengers distribution by gender and survived',\n",
    "              stacked=True\n",
    "             )\n",
    "\n",
    "plt.xticks([0,1], labels=[\"Didn't survives\", 'Survived'], rotation=45)"
   ]
  },
  {
   "cell_type": "markdown",
   "id": "75897637",
   "metadata": {},
   "source": [
    "## Fare ticket by gender"
   ]
  },
  {
   "cell_type": "code",
   "execution_count": 26,
   "id": "c9d2d845",
   "metadata": {},
   "outputs": [
    {
     "data": {
      "text/plain": [
       "<matplotlib.legend.Legend at 0x22d2520c040>"
      ]
     },
     "execution_count": 26,
     "metadata": {},
     "output_type": "execute_result"
    },
    {
     "data": {
      "image/png": "[encoded data removed]",
      "text/plain": [
       "<Figure size 720x360 with 2 Axes>"
      ]
     },
     "metadata": {
      "needs_background": "light"
     },
     "output_type": "display_data"
    }
   ],
   "source": [
    "sns.displot(df, x='Age', \n",
    "            hue='Survived', \n",
    "            col='Sex', \n",
    "            multiple='stack', \n",
    "            legend=False)\n",
    "\n",
    "plt.legend(loc='best', \n",
    "           labels=['Survived', 'Not Survived'], \n",
    "           shadow=True,\n",
    "           framealpha=1, \n",
    "           facecolor='0.94',\n",
    "           title='Survived')"
   ]
  },
  {
   "cell_type": "code",
   "execution_count": null,
   "id": "86086247",
   "metadata": {},
   "outputs": [],
   "source": []
  }
 ],
 "metadata": {
  "kernelspec": {
   "display_name": "Python [conda env:base] *",
   "language": "python",
   "name": "conda-base-py"
  },
  "language_info": {
   "codemirror_mode": {
    "name": "ipython",
    "version": 3
   },
   "file_extension": ".py",
   "mimetype": "text/x-python",
   "name": "python",
   "nbconvert_exporter": "python",
   "pygments_lexer": "ipython3",
   "version": "3.12.7"
  }
 },
 "nbformat": 4,
 "nbformat_minor": 5
}
