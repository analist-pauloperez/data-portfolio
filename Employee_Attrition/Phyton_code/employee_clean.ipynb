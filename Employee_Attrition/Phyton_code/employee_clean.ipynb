{
 "cells": [
  {
   "cell_type": "markdown",
   "id": "70ace9b6-028d-45b4-b225-a64dc6f8b92e",
   "metadata": {},
   "source": [
    "## HR Employee Attrition Data Cleaning\n",
    "This notebook covers data cleaning and preparation steps before analysis in SQL and visualization in Power BI."
   ]
  },
  {
   "cell_type": "code",
   "execution_count": 26,
   "id": "b9a2c1cd-fd40-49f7-8f6e-9da33650eeba",
   "metadata": {},
   "outputs": [],
   "source": [
    "import pandas as pd "
   ]
  },
  {
   "cell_type": "code",
   "execution_count": 28,
   "id": "46f54ff2-5285-46d0-bb3d-d0368bf6c98f",
   "metadata": {},
   "outputs": [
    {
     "data": {
      "text/html": [
       "<div>\n",
       "<style scoped>\n",
       "    .dataframe tbody tr th:only-of-type {\n",
       "        vertical-align: middle;\n",
       "    }\n",
       "\n",
       "    .dataframe tbody tr th {\n",
       "        vertical-align: top;\n",
       "    }\n",
       "\n",
       "    .dataframe thead th {\n",
       "        text-align: right;\n",
       "    }\n",
       "</style>\n",
       "<table border=\"1\" class=\"dataframe\">\n",
       "  <thead>\n",
       "    <tr style=\"text-align: right;\">\n",
       "      <th></th>\n",
       "      <th>Age</th>\n",
       "      <th>Attrition</th>\n",
       "      <th>BusinessTravel</th>\n",
       "      <th>DailyRate</th>\n",
       "      <th>Department</th>\n",
       "      <th>DistanceFromHome</th>\n",
       "      <th>Education</th>\n",
       "      <th>EducationField</th>\n",
       "      <th>EmployeeCount</th>\n",
       "      <th>EmployeeNumber</th>\n",
       "      <th>...</th>\n",
       "      <th>RelationshipSatisfaction</th>\n",
       "      <th>StandardHours</th>\n",
       "      <th>StockOptionLevel</th>\n",
       "      <th>TotalWorkingYears</th>\n",
       "      <th>TrainingTimesLastYear</th>\n",
       "      <th>WorkLifeBalance</th>\n",
       "      <th>YearsAtCompany</th>\n",
       "      <th>YearsInCurrentRole</th>\n",
       "      <th>YearsSinceLastPromotion</th>\n",
       "      <th>YearsWithCurrManager</th>\n",
       "    </tr>\n",
       "  </thead>\n",
       "  <tbody>\n",
       "    <tr>\n",
       "      <th>0</th>\n",
       "      <td>41</td>\n",
       "      <td>Yes</td>\n",
       "      <td>Travel_Rarely</td>\n",
       "      <td>1102</td>\n",
       "      <td>Sales</td>\n",
       "      <td>1</td>\n",
       "      <td>2</td>\n",
       "      <td>Life Sciences</td>\n",
       "      <td>1</td>\n",
       "      <td>1</td>\n",
       "      <td>...</td>\n",
       "      <td>1</td>\n",
       "      <td>80</td>\n",
       "      <td>0</td>\n",
       "      <td>8</td>\n",
       "      <td>0</td>\n",
       "      <td>1</td>\n",
       "      <td>6</td>\n",
       "      <td>4</td>\n",
       "      <td>0</td>\n",
       "      <td>5</td>\n",
       "    </tr>\n",
       "    <tr>\n",
       "      <th>1</th>\n",
       "      <td>49</td>\n",
       "      <td>No</td>\n",
       "      <td>Travel_Frequently</td>\n",
       "      <td>279</td>\n",
       "      <td>Research &amp; Development</td>\n",
       "      <td>8</td>\n",
       "      <td>1</td>\n",
       "      <td>Life Sciences</td>\n",
       "      <td>1</td>\n",
       "      <td>2</td>\n",
       "      <td>...</td>\n",
       "      <td>4</td>\n",
       "      <td>80</td>\n",
       "      <td>1</td>\n",
       "      <td>10</td>\n",
       "      <td>3</td>\n",
       "      <td>3</td>\n",
       "      <td>10</td>\n",
       "      <td>7</td>\n",
       "      <td>1</td>\n",
       "      <td>7</td>\n",
       "    </tr>\n",
       "    <tr>\n",
       "      <th>2</th>\n",
       "      <td>37</td>\n",
       "      <td>Yes</td>\n",
       "      <td>Travel_Rarely</td>\n",
       "      <td>1373</td>\n",
       "      <td>Research &amp; Development</td>\n",
       "      <td>2</td>\n",
       "      <td>2</td>\n",
       "      <td>Other</td>\n",
       "      <td>1</td>\n",
       "      <td>4</td>\n",
       "      <td>...</td>\n",
       "      <td>2</td>\n",
       "      <td>80</td>\n",
       "      <td>0</td>\n",
       "      <td>7</td>\n",
       "      <td>3</td>\n",
       "      <td>3</td>\n",
       "      <td>0</td>\n",
       "      <td>0</td>\n",
       "      <td>0</td>\n",
       "      <td>0</td>\n",
       "    </tr>\n",
       "    <tr>\n",
       "      <th>3</th>\n",
       "      <td>33</td>\n",
       "      <td>No</td>\n",
       "      <td>Travel_Frequently</td>\n",
       "      <td>1392</td>\n",
       "      <td>Research &amp; Development</td>\n",
       "      <td>3</td>\n",
       "      <td>4</td>\n",
       "      <td>Life Sciences</td>\n",
       "      <td>1</td>\n",
       "      <td>5</td>\n",
       "      <td>...</td>\n",
       "      <td>3</td>\n",
       "      <td>80</td>\n",
       "      <td>0</td>\n",
       "      <td>8</td>\n",
       "      <td>3</td>\n",
       "      <td>3</td>\n",
       "      <td>8</td>\n",
       "      <td>7</td>\n",
       "      <td>3</td>\n",
       "      <td>0</td>\n",
       "    </tr>\n",
       "    <tr>\n",
       "      <th>4</th>\n",
       "      <td>27</td>\n",
       "      <td>No</td>\n",
       "      <td>Travel_Rarely</td>\n",
       "      <td>591</td>\n",
       "      <td>Research &amp; Development</td>\n",
       "      <td>2</td>\n",
       "      <td>1</td>\n",
       "      <td>Medical</td>\n",
       "      <td>1</td>\n",
       "      <td>7</td>\n",
       "      <td>...</td>\n",
       "      <td>4</td>\n",
       "      <td>80</td>\n",
       "      <td>1</td>\n",
       "      <td>6</td>\n",
       "      <td>3</td>\n",
       "      <td>3</td>\n",
       "      <td>2</td>\n",
       "      <td>2</td>\n",
       "      <td>2</td>\n",
       "      <td>2</td>\n",
       "    </tr>\n",
       "  </tbody>\n",
       "</table>\n",
       "<p>5 rows × 35 columns</p>\n",
       "</div>"
      ],
      "text/plain": [
       "   Age Attrition     BusinessTravel  DailyRate              Department  \\\n",
       "0   41       Yes      Travel_Rarely       1102                   Sales   \n",
       "1   49        No  Travel_Frequently        279  Research & Development   \n",
       "2   37       Yes      Travel_Rarely       1373  Research & Development   \n",
       "3   33        No  Travel_Frequently       1392  Research & Development   \n",
       "4   27        No      Travel_Rarely        591  Research & Development   \n",
       "\n",
       "   DistanceFromHome  Education EducationField  EmployeeCount  EmployeeNumber  \\\n",
       "0                 1          2  Life Sciences              1               1   \n",
       "1                 8          1  Life Sciences              1               2   \n",
       "2                 2          2          Other              1               4   \n",
       "3                 3          4  Life Sciences              1               5   \n",
       "4                 2          1        Medical              1               7   \n",
       "\n",
       "   ...  RelationshipSatisfaction StandardHours  StockOptionLevel  \\\n",
       "0  ...                         1            80                 0   \n",
       "1  ...                         4            80                 1   \n",
       "2  ...                         2            80                 0   \n",
       "3  ...                         3            80                 0   \n",
       "4  ...                         4            80                 1   \n",
       "\n",
       "   TotalWorkingYears  TrainingTimesLastYear WorkLifeBalance  YearsAtCompany  \\\n",
       "0                  8                      0               1               6   \n",
       "1                 10                      3               3              10   \n",
       "2                  7                      3               3               0   \n",
       "3                  8                      3               3               8   \n",
       "4                  6                      3               3               2   \n",
       "\n",
       "  YearsInCurrentRole  YearsSinceLastPromotion  YearsWithCurrManager  \n",
       "0                  4                        0                     5  \n",
       "1                  7                        1                     7  \n",
       "2                  0                        0                     0  \n",
       "3                  7                        3                     0  \n",
       "4                  2                        2                     2  \n",
       "\n",
       "[5 rows x 35 columns]"
      ]
     },
     "execution_count": 28,
     "metadata": {},
     "output_type": "execute_result"
    }
   ],
   "source": [
    "df= pd.read_csv('employee_attrition.csv')\n",
    "df.head(5)"
   ]
  },
  {
   "cell_type": "code",
   "execution_count": 32,
   "id": "8d385e2f-c49d-4201-9353-28c89165db5e",
   "metadata": {},
   "outputs": [
    {
     "name": "stdout",
     "output_type": "stream",
     "text": [
      "<class 'pandas.core.frame.DataFrame'>\n",
      "RangeIndex: 1470 entries, 0 to 1469\n",
      "Data columns (total 35 columns):\n",
      " #   Column                    Non-Null Count  Dtype \n",
      "---  ------                    --------------  ----- \n",
      " 0   Age                       1470 non-null   int64 \n",
      " 1   Attrition                 1470 non-null   object\n",
      " 2   BusinessTravel            1470 non-null   object\n",
      " 3   DailyRate                 1470 non-null   int64 \n",
      " 4   Department                1470 non-null   object\n",
      " 5   DistanceFromHome          1470 non-null   int64 \n",
      " 6   Education                 1470 non-null   int64 \n",
      " 7   EducationField            1470 non-null   object\n",
      " 8   EmployeeCount             1470 non-null   int64 \n",
      " 9   EmployeeNumber            1470 non-null   int64 \n",
      " 10  EnvironmentSatisfaction   1470 non-null   int64 \n",
      " 11  Gender                    1470 non-null   object\n",
      " 12  HourlyRate                1470 non-null   int64 \n",
      " 13  JobInvolvement            1470 non-null   int64 \n",
      " 14  JobLevel                  1470 non-null   int64 \n",
      " 15  JobRole                   1470 non-null   object\n",
      " 16  JobSatisfaction           1470 non-null   int64 \n",
      " 17  MaritalStatus             1470 non-null   object\n",
      " 18  MonthlyIncome             1470 non-null   int64 \n",
      " 19  MonthlyRate               1470 non-null   int64 \n",
      " 20  NumCompaniesWorked        1470 non-null   int64 \n",
      " 21  Over18                    1470 non-null   object\n",
      " 22  OverTime                  1470 non-null   object\n",
      " 23  PercentSalaryHike         1470 non-null   int64 \n",
      " 24  PerformanceRating         1470 non-null   int64 \n",
      " 25  RelationshipSatisfaction  1470 non-null   int64 \n",
      " 26  StandardHours             1470 non-null   int64 \n",
      " 27  StockOptionLevel          1470 non-null   int64 \n",
      " 28  TotalWorkingYears         1470 non-null   int64 \n",
      " 29  TrainingTimesLastYear     1470 non-null   int64 \n",
      " 30  WorkLifeBalance           1470 non-null   int64 \n",
      " 31  YearsAtCompany            1470 non-null   int64 \n",
      " 32  YearsInCurrentRole        1470 non-null   int64 \n",
      " 33  YearsSinceLastPromotion   1470 non-null   int64 \n",
      " 34  YearsWithCurrManager      1470 non-null   int64 \n",
      "dtypes: int64(26), object(9)\n",
      "memory usage: 402.1+ KB\n"
     ]
    }
   ],
   "source": [
    "df.info()"
   ]
  },
  {
   "cell_type": "markdown",
   "id": "91605bc5-f463-4fbd-ae79-ea6705bf196d",
   "metadata": {},
   "source": [
    "## 2. Select Relevant Columns"
   ]
  },
  {
   "cell_type": "code",
   "execution_count": 35,
   "id": "4b7a9144-e4e0-4614-8266-b6eeea44f497",
   "metadata": {},
   "outputs": [
    {
     "name": "stdout",
     "output_type": "stream",
     "text": [
      "Selected columns dataset shape: (1470, 32)\n"
     ]
    }
   ],
   "source": [
    "\n",
    "columns_to_use = [\n",
    "    'EmployeeNumber', 'Attrition','Age','Gender','MaritalStatus','DistanceFromHome','Education','EducationField',\n",
    "    'NumCompaniesWorked','TotalWorkingYears', 'TrainingTimesLastYear', 'Department','BusinessTravel','JobRole',\n",
    "    'JobLevel', 'OverTime', 'MonthlyIncome','HourlyRate','DailyRate','MonthlyRate', 'PercentSalaryHike',\n",
    "    'StockOptionLevel','JobSatisfaction', 'EnvironmentSatisfaction',\n",
    "    'WorkLifeBalance','RelationshipSatisfaction','JobInvolvement','PerformanceRating','YearsAtCompany','YearsSinceLastPromotion',       \n",
    "    'YearsInCurrentRole','YearsWithCurrManager'          \n",
    "]\n",
    "\n",
    "df = df[columns_to_use]\n",
    "print(f'Selected columns dataset shape: {df.shape}')"
   ]
  },
  {
   "cell_type": "markdown",
   "id": "63670b0a-284e-4221-967a-e8ee22675580",
   "metadata": {},
   "source": [
    "## 3. Remove Duplicate EmployeeNumber"
   ]
  },
  {
   "cell_type": "code",
   "execution_count": 38,
   "id": "2e1b3bae-5198-40ab-b1ec-670a03c088d7",
   "metadata": {},
   "outputs": [
    {
     "name": "stdout",
     "output_type": "stream",
     "text": [
      "Shape after removing duplicates: (1470, 32)\n"
     ]
    }
   ],
   "source": [
    "df = df.drop_duplicates(subset='EmployeeNumber')\n",
    "print(f'Shape after removing duplicates: {df.shape}')"
   ]
  },
  {
   "cell_type": "markdown",
   "id": "090df36b-0a7c-430e-9d15-4a0af3a8ede8",
   "metadata": {},
   "source": [
    "## 4. Handle Missing Values"
   ]
  },
  {
   "cell_type": "code",
   "execution_count": 49,
   "id": "a162bea6-80bc-451f-9eaf-196b8f720df8",
   "metadata": {},
   "outputs": [],
   "source": [
    "missing_values = df.isnull().sum()\n"
   ]
  },
  {
   "cell_type": "code",
   "execution_count": 51,
   "id": "d496738e-8038-437e-8a8d-4d17c604744f",
   "metadata": {},
   "outputs": [
    {
     "name": "stdout",
     "output_type": "stream",
     "text": [
      "EmployeeNumber              0\n",
      "Attrition                   0\n",
      "Age                         0\n",
      "Gender                      0\n",
      "MaritalStatus               0\n",
      "DistanceFromHome            0\n",
      "Education                   0\n",
      "EducationField              0\n",
      "NumCompaniesWorked          0\n",
      "TotalWorkingYears           0\n",
      "TrainingTimesLastYear       0\n",
      "Department                  0\n",
      "BusinessTravel              0\n",
      "JobRole                     0\n",
      "JobLevel                    0\n",
      "OverTime                    0\n",
      "MonthlyIncome               0\n",
      "HourlyRate                  0\n",
      "DailyRate                   0\n",
      "MonthlyRate                 0\n",
      "PercentSalaryHike           0\n",
      "StockOptionLevel            0\n",
      "JobSatisfaction             0\n",
      "EnvironmentSatisfaction     0\n",
      "WorkLifeBalance             0\n",
      "RelationshipSatisfaction    0\n",
      "JobInvolvement              0\n",
      "PerformanceRating           0\n",
      "YearsAtCompany              0\n",
      "YearsSinceLastPromotion     0\n",
      "YearsInCurrentRole          0\n",
      "YearsWithCurrManager        0\n",
      "dtype: int64\n"
     ]
    }
   ],
   "source": [
    "print(missing_values)"
   ]
  },
  {
   "cell_type": "markdown",
   "id": "87440033-85c4-4c00-94ae-681a8c979a76",
   "metadata": {},
   "source": [
    "## 5. Using .replace() to change Numerical Codes to Descriptive Labels"
   ]
  },
  {
   "cell_type": "markdown",
   "id": "aed05a48-8e1c-4a45-969b-23b8305c5f4f",
   "metadata": {},
   "source": [
    "***Educacion***"
   ]
  },
  {
   "cell_type": "code",
   "execution_count": 55,
   "id": "6f5e66de-a1d4-409a-9c8f-44807a9b669f",
   "metadata": {},
   "outputs": [],
   "source": [
    "df['Education'] = df['Education'].replace({\n",
    "                                            1:'Below College', \n",
    "                                            2:'College',\n",
    "                                            3:'Bachelor', \n",
    "                                            4:'Master',\n",
    "                                            5:'Doctor'\n",
    "                                            })      "
   ]
  },
  {
   "cell_type": "code",
   "execution_count": 57,
   "id": "8a88578d-d21f-4ec6-8db1-27e90df7380e",
   "metadata": {},
   "outputs": [
    {
     "data": {
      "text/plain": [
       "Education\n",
       "Bachelor         572\n",
       "Master           398\n",
       "College          282\n",
       "Below College    170\n",
       "Doctor            48\n",
       "Name: count, dtype: int64"
      ]
     },
     "execution_count": 57,
     "metadata": {},
     "output_type": "execute_result"
    }
   ],
   "source": [
    "df['Education'].value_counts()"
   ]
  },
  {
   "cell_type": "markdown",
   "id": "25072243-b371-4cf5-bcab-deec4890db7d",
   "metadata": {},
   "source": [
    "***EnvironmentSatisfaction***"
   ]
  },
  {
   "cell_type": "code",
   "execution_count": 60,
   "id": "bb120429-51f5-480b-be0c-8448be70bf56",
   "metadata": {},
   "outputs": [],
   "source": [
    "df['EnvironmentSatisfaction']= df['EnvironmentSatisfaction'].replace({\n",
    "                                                                       1:'Low',\n",
    "                                                                       2:'Medium',\n",
    "                                                                       3:'High',\n",
    "                                                                       4:'Very High'\n",
    "                                                                      })"
   ]
  },
  {
   "cell_type": "code",
   "execution_count": 62,
   "id": "30c4ce52-1f8c-42a0-a1ae-fd52628353af",
   "metadata": {},
   "outputs": [
    {
     "data": {
      "text/plain": [
       "EnvironmentSatisfaction\n",
       "High         453\n",
       "Very High    446\n",
       "Medium       287\n",
       "Low          284\n",
       "Name: count, dtype: int64"
      ]
     },
     "execution_count": 62,
     "metadata": {},
     "output_type": "execute_result"
    }
   ],
   "source": [
    "df['EnvironmentSatisfaction'].value_counts()"
   ]
  },
  {
   "cell_type": "markdown",
   "id": "732c7075-0648-4fa0-b4c7-b703e5dfd259",
   "metadata": {},
   "source": [
    "***JobSatisfaction***"
   ]
  },
  {
   "cell_type": "code",
   "execution_count": 65,
   "id": "b1ba79e9-e95d-4c2c-a941-de0174f12eaa",
   "metadata": {},
   "outputs": [],
   "source": [
    "df['JobSatisfaction'] = df['JobSatisfaction'].replace({\n",
    "                                                         1:'Low',\n",
    "                                                         2:'Medium',\n",
    "                                                         3:'High',\n",
    "                                                         4:'Very High'\n",
    "                                                        })"
   ]
  },
  {
   "cell_type": "code",
   "execution_count": 67,
   "id": "749e9b19-2d9d-44da-af26-94b2c4293b44",
   "metadata": {},
   "outputs": [
    {
     "data": {
      "text/plain": [
       "JobSatisfaction\n",
       "Very High    459\n",
       "High         442\n",
       "Low          289\n",
       "Medium       280\n",
       "Name: count, dtype: int64"
      ]
     },
     "execution_count": 67,
     "metadata": {},
     "output_type": "execute_result"
    }
   ],
   "source": [
    "df['JobSatisfaction'].value_counts()"
   ]
  },
  {
   "cell_type": "markdown",
   "id": "a8d9297c-6b61-4ada-817b-d0e3488ba37c",
   "metadata": {},
   "source": [
    "***WorkLifeBalance***"
   ]
  },
  {
   "cell_type": "code",
   "execution_count": 70,
   "id": "96e5c62b-3e85-43b2-b90a-868823701ecb",
   "metadata": {},
   "outputs": [],
   "source": [
    "df['WorkLifeBalance']= df['WorkLifeBalance'].replace({\n",
    "                                                         1: 'Bad',\n",
    "                                                         2: 'Good',\n",
    "                                                         3: 'Better',\n",
    "                                                         4: 'Best'\n",
    "                                                        })"
   ]
  },
  {
   "cell_type": "code",
   "execution_count": 72,
   "id": "d7cb12d7-837b-450f-9eb3-f123c138260c",
   "metadata": {},
   "outputs": [
    {
     "data": {
      "text/plain": [
       "WorkLifeBalance\n",
       "Better    893\n",
       "Good      344\n",
       "Best      153\n",
       "Bad        80\n",
       "Name: count, dtype: int64"
      ]
     },
     "execution_count": 72,
     "metadata": {},
     "output_type": "execute_result"
    }
   ],
   "source": [
    "df['WorkLifeBalance'].value_counts()"
   ]
  },
  {
   "cell_type": "markdown",
   "id": "a5203949-5521-47b2-8049-b876ced7ae3e",
   "metadata": {},
   "source": [
    "***RelationshipSatisfaction***"
   ]
  },
  {
   "cell_type": "code",
   "execution_count": 79,
   "id": "10564bee-6d2e-4260-8055-1903c879c2ed",
   "metadata": {},
   "outputs": [],
   "source": [
    "df['RelationshipSatisfaction']= df['RelationshipSatisfaction'].replace({\n",
    "                                                                         1: 'Bad',\n",
    "                                                                         2: 'Good',\n",
    "                                                                         3: 'Better',\n",
    "                                                                         4: 'Best'\n",
    "                                                                        })"
   ]
  },
  {
   "cell_type": "code",
   "execution_count": 81,
   "id": "75a4d452-e2c9-4794-a67b-d56af9ad9306",
   "metadata": {},
   "outputs": [
    {
     "data": {
      "text/plain": [
       "RelationshipSatisfaction\n",
       "Better    459\n",
       "Best      432\n",
       "Good      303\n",
       "Bad       276\n",
       "Name: count, dtype: int64"
      ]
     },
     "execution_count": 81,
     "metadata": {},
     "output_type": "execute_result"
    }
   ],
   "source": [
    "df['RelationshipSatisfaction'].value_counts()"
   ]
  },
  {
   "cell_type": "markdown",
   "id": "1b3bcc61-7e5d-4ad2-b166-d5e0dc1b22cc",
   "metadata": {},
   "source": [
    "***JobInvolvement***"
   ]
  },
  {
   "cell_type": "code",
   "execution_count": 84,
   "id": "18cd16fa-57d1-47ec-b0f4-253e8c111db1",
   "metadata": {},
   "outputs": [],
   "source": [
    "df['JobInvolvement']= df['JobInvolvement'].replace({\n",
    "                                                      1:'Low',\n",
    "                                                      2:'Medium',\n",
    "                                                      3:'High',\n",
    "                                                      4:'Very High'\n",
    "                                                     })"
   ]
  },
  {
   "cell_type": "code",
   "execution_count": 86,
   "id": "7ae9304e-da9a-4427-a9ef-d1b582273123",
   "metadata": {},
   "outputs": [
    {
     "data": {
      "text/plain": [
       "JobInvolvement\n",
       "High         868\n",
       "Medium       375\n",
       "Very High    144\n",
       "Low           83\n",
       "Name: count, dtype: int64"
      ]
     },
     "execution_count": 86,
     "metadata": {},
     "output_type": "execute_result"
    }
   ],
   "source": [
    "df['JobInvolvement'].value_counts()"
   ]
  },
  {
   "cell_type": "markdown",
   "id": "90bda3db-4906-4828-b3ce-e63024abd6b4",
   "metadata": {},
   "source": [
    "##  Exporting Cleaned Dataset to CSV\n",
    "\n",
    "Now that the data has been cleaned and missing values have been handled, we export the final version to a CSV file for future use or integration Power BI."
   ]
  },
  {
   "cell_type": "code",
   "execution_count": 93,
   "id": "206ad307-fdf7-4f4e-91fe-2d08d0ae7058",
   "metadata": {},
   "outputs": [],
   "source": [
    "df.to_csv('employee_attrition_clean.csv', index=False)"
   ]
  },
  {
   "cell_type": "code",
   "execution_count": null,
   "id": "4debabea-c4ef-488d-a61e-b5cb86c9f6d6",
   "metadata": {},
   "outputs": [],
   "source": []
  }
 ],
 "metadata": {
  "kernelspec": {
   "display_name": "Python [conda env:base] *",
   "language": "python",
   "name": "conda-base-py"
  },
  "language_info": {
   "codemirror_mode": {
    "name": "ipython",
    "version": 3
   },
   "file_extension": ".py",
   "mimetype": "text/x-python",
   "name": "python",
   "nbconvert_exporter": "python",
   "pygments_lexer": "ipython3",
   "version": "3.12.7"
  }
 },
 "nbformat": 4,
 "nbformat_minor": 5
}
